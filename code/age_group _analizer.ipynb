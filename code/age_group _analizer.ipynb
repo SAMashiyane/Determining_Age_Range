{
 "cells": [
  {
   "cell_type": "markdown",
   "id": "7609c4fc",
   "metadata": {},
   "source": [
    "<div class=\"alert alert-block alert-success\">\n",
    "    <h1 align=\"center\">Machine Learning in Python</h1>\n",
    "    <h3 align=\"center\">age group analize </h3>\n",
    "</div>"
   ]
  },
  {
   "cell_type": "markdown",
   "id": "98411cd4",
   "metadata": {},
   "source": [
    "## Importing the libraries"
   ]
  },
  {
   "cell_type": "code",
   "execution_count": 1,
   "id": "d6301feb",
   "metadata": {},
   "outputs": [],
   "source": [
    "#Let's Import the Packages...\n",
    "%matplotlib inline\n",
    "import numpy as np\n",
    "import pandas as pd\n",
    "import matplotlib.pyplot as plt\n",
    "import seaborn as sns\n",
    "import sklearn\n",
    "\n",
    "from sklearn.preprocessing import LabelEncoder\n",
    "from sklearn.model_selection import train_test_split\n",
    "from sklearn.metrics import accuracy_score\n",
    "from sklearn.preprocessing import StandardScaler\n",
    "from sklearn.linear_model import LogisticRegression\n",
    "from sklearn.linear_model import LinearRegression\n",
    "\n",
    "from sklearn.tree import DecisionTreeClassifier\n",
    "from sklearn.ensemble import RandomForestClassifier\n",
    "from sklearn.svm import SVC\n",
    "import warnings\n",
    "warnings.filterwarnings('ignore')"
   ]
  },
  {
   "cell_type": "markdown",
   "id": "297645b7",
   "metadata": {},
   "source": [
    "<div class=\"alert alert-block alert-info\" dir=\"ltr\" style=\"text-align: center;\"><strong><span style=\"font-family: courier new, courier; font-size: 18pt;\">load Data </span></strong>\n",
    "<p style=\"text-align: center;\"><strong><span style=\"font-family: courier new, courier; font-size: 18pt;\"> \n",
    "</div>"
   ]
  },
  {
   "cell_type": "markdown",
   "id": "db25735f",
   "metadata": {},
   "source": [
    "## Load "
   ]
  },
  {
   "cell_type": "code",
   "execution_count": 2,
   "id": "fac7b221",
   "metadata": {},
   "outputs": [
    {
     "data": {
      "text/html": [
       "<div>\n",
       "<style scoped>\n",
       "    .dataframe tbody tr th:only-of-type {\n",
       "        vertical-align: middle;\n",
       "    }\n",
       "\n",
       "    .dataframe tbody tr th {\n",
       "        vertical-align: top;\n",
       "    }\n",
       "\n",
       "    .dataframe thead th {\n",
       "        text-align: right;\n",
       "    }\n",
       "</style>\n",
       "<table border=\"1\" class=\"dataframe\">\n",
       "  <thead>\n",
       "    <tr style=\"text-align: right;\">\n",
       "      <th></th>\n",
       "      <th>ID_Patient</th>\n",
       "      <th>Sex</th>\n",
       "      <th>Age</th>\n",
       "      <th>Age_Group</th>\n",
       "      <th>Glabellar</th>\n",
       "      <th>Piriform_Height</th>\n",
       "      <th>Maxillary</th>\n",
       "      <th>Piriform_Width</th>\n",
       "      <th>Male_Group</th>\n",
       "      <th>Femle_Group</th>\n",
       "    </tr>\n",
       "  </thead>\n",
       "  <tbody>\n",
       "    <tr>\n",
       "      <th>5</th>\n",
       "      <td>jafari</td>\n",
       "      <td>1</td>\n",
       "      <td>21</td>\n",
       "      <td>1</td>\n",
       "      <td>62.50</td>\n",
       "      <td>34.47</td>\n",
       "      <td>88.65</td>\n",
       "      <td>24.59</td>\n",
       "      <td>1</td>\n",
       "      <td></td>\n",
       "    </tr>\n",
       "    <tr>\n",
       "      <th>50</th>\n",
       "      <td>bahirai</td>\n",
       "      <td>2</td>\n",
       "      <td>20</td>\n",
       "      <td>1</td>\n",
       "      <td>74.00</td>\n",
       "      <td>30.80</td>\n",
       "      <td>81.90</td>\n",
       "      <td>23.00</td>\n",
       "      <td></td>\n",
       "      <td>1</td>\n",
       "    </tr>\n",
       "    <tr>\n",
       "      <th>74</th>\n",
       "      <td>eghbali</td>\n",
       "      <td>2</td>\n",
       "      <td>53</td>\n",
       "      <td>3</td>\n",
       "      <td>71.30</td>\n",
       "      <td>31.55</td>\n",
       "      <td>77.87</td>\n",
       "      <td>25.36</td>\n",
       "      <td></td>\n",
       "      <td>3</td>\n",
       "    </tr>\n",
       "    <tr>\n",
       "      <th>3</th>\n",
       "      <td>teymoriyan</td>\n",
       "      <td>1</td>\n",
       "      <td>21</td>\n",
       "      <td>1</td>\n",
       "      <td>62.55</td>\n",
       "      <td>34.47</td>\n",
       "      <td>88.66</td>\n",
       "      <td>24.53</td>\n",
       "      <td>1</td>\n",
       "      <td></td>\n",
       "    </tr>\n",
       "    <tr>\n",
       "      <th>45</th>\n",
       "      <td>minayi</td>\n",
       "      <td>1</td>\n",
       "      <td>65</td>\n",
       "      <td>4</td>\n",
       "      <td>57.30</td>\n",
       "      <td>35.80</td>\n",
       "      <td>86.80</td>\n",
       "      <td>25.94</td>\n",
       "      <td>4</td>\n",
       "      <td></td>\n",
       "    </tr>\n",
       "    <tr>\n",
       "      <th>75</th>\n",
       "      <td>nazadi</td>\n",
       "      <td>2</td>\n",
       "      <td>54</td>\n",
       "      <td>3</td>\n",
       "      <td>71.20</td>\n",
       "      <td>31.59</td>\n",
       "      <td>77.80</td>\n",
       "      <td>25.40</td>\n",
       "      <td></td>\n",
       "      <td>3</td>\n",
       "    </tr>\n",
       "    <tr>\n",
       "      <th>83</th>\n",
       "      <td>sabrai</td>\n",
       "      <td>2</td>\n",
       "      <td>60</td>\n",
       "      <td>3</td>\n",
       "      <td>71.00</td>\n",
       "      <td>31.70</td>\n",
       "      <td>77.66</td>\n",
       "      <td>25.84</td>\n",
       "      <td></td>\n",
       "      <td>3</td>\n",
       "    </tr>\n",
       "    <tr>\n",
       "      <th>34</th>\n",
       "      <td>baghbani</td>\n",
       "      <td>1</td>\n",
       "      <td>44</td>\n",
       "      <td>2</td>\n",
       "      <td>59.10</td>\n",
       "      <td>35.40</td>\n",
       "      <td>87.60</td>\n",
       "      <td>25.00</td>\n",
       "      <td>2</td>\n",
       "      <td></td>\n",
       "    </tr>\n",
       "    <tr>\n",
       "      <th>0</th>\n",
       "      <td>khatoni</td>\n",
       "      <td>1</td>\n",
       "      <td>20</td>\n",
       "      <td>1</td>\n",
       "      <td>62.70</td>\n",
       "      <td>34.41</td>\n",
       "      <td>88.70</td>\n",
       "      <td>24.50</td>\n",
       "      <td>1</td>\n",
       "      <td></td>\n",
       "    </tr>\n",
       "    <tr>\n",
       "      <th>72</th>\n",
       "      <td>rezvanpur</td>\n",
       "      <td>2</td>\n",
       "      <td>50</td>\n",
       "      <td>3</td>\n",
       "      <td>71.80</td>\n",
       "      <td>31.51</td>\n",
       "      <td>78.00</td>\n",
       "      <td>25.10</td>\n",
       "      <td></td>\n",
       "      <td>3</td>\n",
       "    </tr>\n",
       "  </tbody>\n",
       "</table>\n",
       "</div>"
      ],
      "text/plain": [
       "    ID_Patient  Sex  Age  Age_Group  Glabellar  Piriform_Height  Maxillary  \\\n",
       "5       jafari    1   21          1      62.50            34.47      88.65   \n",
       "50     bahirai    2   20          1      74.00            30.80      81.90   \n",
       "74     eghbali    2   53          3      71.30            31.55      77.87   \n",
       "3   teymoriyan    1   21          1      62.55            34.47      88.66   \n",
       "45      minayi    1   65          4      57.30            35.80      86.80   \n",
       "75      nazadi    2   54          3      71.20            31.59      77.80   \n",
       "83      sabrai    2   60          3      71.00            31.70      77.66   \n",
       "34    baghbani    1   44          2      59.10            35.40      87.60   \n",
       "0      khatoni    1   20          1      62.70            34.41      88.70   \n",
       "72   rezvanpur    2   50          3      71.80            31.51      78.00   \n",
       "\n",
       "    Piriform_Width Male_Group Femle_Group  \n",
       "5            24.59          1              \n",
       "50           23.00                      1  \n",
       "74           25.36                      3  \n",
       "3            24.53          1              \n",
       "45           25.94          4              \n",
       "75           25.40                      3  \n",
       "83           25.84                      3  \n",
       "34           25.00          2              \n",
       "0            24.50          1              \n",
       "72           25.10                      3  "
      ]
     },
     "execution_count": 2,
     "metadata": {},
     "output_type": "execute_result"
    }
   ],
   "source": [
    "#Let's Read csv file\n",
    "data_Total = pd.read_csv(\"C:/Users/Salio/Desktop/NEW_article/data.csv\")\n",
    "#Show some records of dataframe\n",
    "data_Total.sample(10)"
   ]
  },
  {
   "cell_type": "markdown",
   "id": "c6118639",
   "metadata": {},
   "source": [
    "<div class=\"alert alert-block alert-info\" dir=\"ltr\" style=\"text-align: center;\"><strong><span style=\"font-family: courier new, courier; font-size: 18pt;\">Prepare Data and EDA </span></strong>\n",
    "<p style=\"text-align: center;\"><strong><span style=\"font-family: courier new, courier; font-size: 18pt;\"> \n",
    "</div>"
   ]
  },
  {
   "cell_type": "markdown",
   "id": "13d82c90",
   "metadata": {},
   "source": [
    "## EDA and Prepare Data"
   ]
  },
  {
   "cell_type": "code",
   "execution_count": 3,
   "id": "144702fa",
   "metadata": {},
   "outputs": [
    {
     "data": {
      "text/plain": [
       "RangeIndex(start=0, stop=100, step=1)"
      ]
     },
     "execution_count": 3,
     "metadata": {},
     "output_type": "execute_result"
    }
   ],
   "source": [
    "data_Total.index"
   ]
  },
  {
   "cell_type": "code",
   "execution_count": 4,
   "id": "4e77b255",
   "metadata": {},
   "outputs": [
    {
     "name": "stdout",
     "output_type": "stream",
     "text": [
      "<class 'pandas.core.frame.DataFrame'>\n",
      "RangeIndex: 100 entries, 0 to 99\n",
      "Data columns (total 10 columns):\n",
      " #   Column           Non-Null Count  Dtype  \n",
      "---  ------           --------------  -----  \n",
      " 0   ID_Patient       100 non-null    object \n",
      " 1   Sex              100 non-null    int64  \n",
      " 2   Age              100 non-null    int64  \n",
      " 3   Age_Group        100 non-null    int64  \n",
      " 4   Glabellar        100 non-null    float64\n",
      " 5   Piriform_Height  100 non-null    float64\n",
      " 6   Maxillary        100 non-null    float64\n",
      " 7   Piriform_Width   100 non-null    float64\n",
      " 8   Male_Group       100 non-null    object \n",
      " 9   Femle_Group      100 non-null    object \n",
      "dtypes: float64(4), int64(3), object(3)\n",
      "memory usage: 7.9+ KB\n"
     ]
    }
   ],
   "source": [
    "# get information about data!!\n",
    "data_Total.info()\n",
    "# In this data some features are in the form object (Geography -Gender -Surname)"
   ]
  },
  {
   "cell_type": "code",
   "execution_count": 5,
   "id": "d606ab93",
   "metadata": {},
   "outputs": [
    {
     "data": {
      "text/plain": [
       "ID_Patient         0\n",
       "Sex                0\n",
       "Age                0\n",
       "Age_Group          0\n",
       "Glabellar          0\n",
       "Piriform_Height    0\n",
       "Maxillary          0\n",
       "Piriform_Width     0\n",
       "Male_Group         0\n",
       "Femle_Group        0\n",
       "dtype: int64"
      ]
     },
     "execution_count": 5,
     "metadata": {},
     "output_type": "execute_result"
    }
   ],
   "source": [
    "# Check columns list and missing values\n",
    "data_Total.isnull().sum()"
   ]
  },
  {
   "cell_type": "code",
   "execution_count": 6,
   "id": "befefedf",
   "metadata": {},
   "outputs": [
    {
     "data": {
      "text/plain": [
       "ID_Patient         96\n",
       "Sex                 2\n",
       "Age                49\n",
       "Age_Group           4\n",
       "Glabellar          57\n",
       "Piriform_Height    82\n",
       "Maxillary          91\n",
       "Piriform_Width     70\n",
       "Male_Group          5\n",
       "Femle_Group         5\n",
       "dtype: int64"
      ]
     },
     "execution_count": 6,
     "metadata": {},
     "output_type": "execute_result"
    }
   ],
   "source": [
    "# Get unique count for each variable\n",
    "data_Total.nunique()"
   ]
  },
  {
   "cell_type": "code",
   "execution_count": 7,
   "id": "bbe0931a",
   "metadata": {},
   "outputs": [
    {
     "data": {
      "text/html": [
       "<div>\n",
       "<style scoped>\n",
       "    .dataframe tbody tr th:only-of-type {\n",
       "        vertical-align: middle;\n",
       "    }\n",
       "\n",
       "    .dataframe tbody tr th {\n",
       "        vertical-align: top;\n",
       "    }\n",
       "\n",
       "    .dataframe thead th {\n",
       "        text-align: right;\n",
       "    }\n",
       "</style>\n",
       "<table border=\"1\" class=\"dataframe\">\n",
       "  <thead>\n",
       "    <tr style=\"text-align: right;\">\n",
       "      <th></th>\n",
       "      <th>Sex</th>\n",
       "      <th>Age</th>\n",
       "      <th>Glabellar</th>\n",
       "      <th>Piriform_Height</th>\n",
       "      <th>Maxillary</th>\n",
       "      <th>Piriform_Width</th>\n",
       "    </tr>\n",
       "  </thead>\n",
       "  <tbody>\n",
       "    <tr>\n",
       "      <th>0</th>\n",
       "      <td>1</td>\n",
       "      <td>20</td>\n",
       "      <td>62.70</td>\n",
       "      <td>34.41</td>\n",
       "      <td>88.70</td>\n",
       "      <td>24.50</td>\n",
       "    </tr>\n",
       "    <tr>\n",
       "      <th>1</th>\n",
       "      <td>1</td>\n",
       "      <td>21</td>\n",
       "      <td>62.60</td>\n",
       "      <td>34.45</td>\n",
       "      <td>88.69</td>\n",
       "      <td>24.55</td>\n",
       "    </tr>\n",
       "    <tr>\n",
       "      <th>2</th>\n",
       "      <td>1</td>\n",
       "      <td>21</td>\n",
       "      <td>62.50</td>\n",
       "      <td>34.46</td>\n",
       "      <td>88.68</td>\n",
       "      <td>24.50</td>\n",
       "    </tr>\n",
       "    <tr>\n",
       "      <th>3</th>\n",
       "      <td>1</td>\n",
       "      <td>21</td>\n",
       "      <td>62.55</td>\n",
       "      <td>34.47</td>\n",
       "      <td>88.66</td>\n",
       "      <td>24.53</td>\n",
       "    </tr>\n",
       "    <tr>\n",
       "      <th>4</th>\n",
       "      <td>1</td>\n",
       "      <td>21</td>\n",
       "      <td>62.45</td>\n",
       "      <td>34.46</td>\n",
       "      <td>88.67</td>\n",
       "      <td>24.50</td>\n",
       "    </tr>\n",
       "    <tr>\n",
       "      <th>...</th>\n",
       "      <td>...</td>\n",
       "      <td>...</td>\n",
       "      <td>...</td>\n",
       "      <td>...</td>\n",
       "      <td>...</td>\n",
       "      <td>...</td>\n",
       "    </tr>\n",
       "    <tr>\n",
       "      <th>95</th>\n",
       "      <td>2</td>\n",
       "      <td>68</td>\n",
       "      <td>70.50</td>\n",
       "      <td>31.78</td>\n",
       "      <td>77.34</td>\n",
       "      <td>25.89</td>\n",
       "    </tr>\n",
       "    <tr>\n",
       "      <th>96</th>\n",
       "      <td>2</td>\n",
       "      <td>69</td>\n",
       "      <td>70.70</td>\n",
       "      <td>31.78</td>\n",
       "      <td>77.25</td>\n",
       "      <td>26.00</td>\n",
       "    </tr>\n",
       "    <tr>\n",
       "      <th>97</th>\n",
       "      <td>2</td>\n",
       "      <td>69</td>\n",
       "      <td>70.40</td>\n",
       "      <td>31.79</td>\n",
       "      <td>77.20</td>\n",
       "      <td>26.12</td>\n",
       "    </tr>\n",
       "    <tr>\n",
       "      <th>98</th>\n",
       "      <td>2</td>\n",
       "      <td>71</td>\n",
       "      <td>70.00</td>\n",
       "      <td>31.80</td>\n",
       "      <td>77.10</td>\n",
       "      <td>26.21</td>\n",
       "    </tr>\n",
       "    <tr>\n",
       "      <th>99</th>\n",
       "      <td>2</td>\n",
       "      <td>76</td>\n",
       "      <td>69.60</td>\n",
       "      <td>31.81</td>\n",
       "      <td>77.10</td>\n",
       "      <td>26.40</td>\n",
       "    </tr>\n",
       "  </tbody>\n",
       "</table>\n",
       "<p>100 rows × 6 columns</p>\n",
       "</div>"
      ],
      "text/plain": [
       "    Sex  Age  Glabellar  Piriform_Height  Maxillary  Piriform_Width\n",
       "0     1   20      62.70            34.41      88.70           24.50\n",
       "1     1   21      62.60            34.45      88.69           24.55\n",
       "2     1   21      62.50            34.46      88.68           24.50\n",
       "3     1   21      62.55            34.47      88.66           24.53\n",
       "4     1   21      62.45            34.46      88.67           24.50\n",
       "..  ...  ...        ...              ...        ...             ...\n",
       "95    2   68      70.50            31.78      77.34           25.89\n",
       "96    2   69      70.70            31.78      77.25           26.00\n",
       "97    2   69      70.40            31.79      77.20           26.12\n",
       "98    2   71      70.00            31.80      77.10           26.21\n",
       "99    2   76      69.60            31.81      77.10           26.40\n",
       "\n",
       "[100 rows x 6 columns]"
      ]
     },
     "execution_count": 7,
     "metadata": {},
     "output_type": "execute_result"
    }
   ],
   "source": [
    "# Drop the columns as explained above---->(\"RowNumber\", \"CustomerId\", \"Surname\")\n",
    "\n",
    "data_sel = data_Total.drop([\"ID_Patient\", \"Male_Group\", \"Femle_Group\",\"Age_Group\"], axis = 1)\n",
    "data_sel"
   ]
  },
  {
   "cell_type": "code",
   "execution_count": 8,
   "id": "3be4f6f6",
   "metadata": {},
   "outputs": [
    {
     "data": {
      "text/plain": [
       "(6, 6)"
      ]
     },
     "execution_count": 8,
     "metadata": {},
     "output_type": "execute_result"
    }
   ],
   "source": [
    "corr =data_sel.corr()\n",
    "corr.shape"
   ]
  },
  {
   "cell_type": "code",
   "execution_count": 9,
   "id": "75333d77",
   "metadata": {},
   "outputs": [
    {
     "data": {
      "text/plain": [
       "<AxesSubplot:>"
      ]
     },
     "execution_count": 9,
     "metadata": {},
     "output_type": "execute_result"
    },
    {
     "data": {
      "image/png": "[encoded data removed]",
      "text/plain": [
       "<Figure size 720x720 with 2 Axes>"
      ]
     },
     "metadata": {
      "needs_background": "light"
     },
     "output_type": "display_data"
    }
   ],
   "source": [
    "plt.figure(figsize=(10,10))\n",
    "sns.heatmap(corr, cbar=True, square= True, fmt='.1f', annot=True, annot_kws={'size':15}, cmap='YlGnBu',linewidths=.5)"
   ]
  },
  {
   "cell_type": "code",
   "execution_count": 10,
   "id": "eac9af75",
   "metadata": {},
   "outputs": [
    {
     "data": {
      "image/png": "[encoded data removed]",
      "text/plain": [
       "<Figure size 720x720 with 2 Axes>"
      ]
     },
     "metadata": {},
     "output_type": "display_data"
    }
   ],
   "source": [
    "mask = np.zeros_like(corr)\n",
    "mask[np.triu_indices_from(mask)] = True\n",
    "with sns.axes_style(\"white\"):\n",
    "    f, ax = plt.subplots(figsize=(10, 10))\n",
    "    ax = sns.heatmap(corr, cbar=True, square= True, fmt='.1f', annot=True, annot_kws={'size':15}, cmap='YlGnBu',linewidths=.5,mask = mask)"
   ]
  },
  {
   "cell_type": "code",
   "execution_count": 11,
   "id": "75be613c",
   "metadata": {},
   "outputs": [
    {
     "data": {
      "text/html": [
       "<div>\n",
       "<style scoped>\n",
       "    .dataframe tbody tr th:only-of-type {\n",
       "        vertical-align: middle;\n",
       "    }\n",
       "\n",
       "    .dataframe tbody tr th {\n",
       "        vertical-align: top;\n",
       "    }\n",
       "\n",
       "    .dataframe thead th {\n",
       "        text-align: right;\n",
       "    }\n",
       "</style>\n",
       "<table border=\"1\" class=\"dataframe\">\n",
       "  <thead>\n",
       "    <tr style=\"text-align: right;\">\n",
       "      <th></th>\n",
       "      <th>Sex</th>\n",
       "      <th>Age_Group</th>\n",
       "      <th>Glabellar</th>\n",
       "      <th>Piriform_Height</th>\n",
       "      <th>Maxillary</th>\n",
       "      <th>Piriform_Width</th>\n",
       "    </tr>\n",
       "  </thead>\n",
       "  <tbody>\n",
       "    <tr>\n",
       "      <th>0</th>\n",
       "      <td>1</td>\n",
       "      <td>1</td>\n",
       "      <td>62.70</td>\n",
       "      <td>34.41</td>\n",
       "      <td>88.70</td>\n",
       "      <td>24.50</td>\n",
       "    </tr>\n",
       "    <tr>\n",
       "      <th>1</th>\n",
       "      <td>1</td>\n",
       "      <td>1</td>\n",
       "      <td>62.60</td>\n",
       "      <td>34.45</td>\n",
       "      <td>88.69</td>\n",
       "      <td>24.55</td>\n",
       "    </tr>\n",
       "    <tr>\n",
       "      <th>2</th>\n",
       "      <td>1</td>\n",
       "      <td>1</td>\n",
       "      <td>62.50</td>\n",
       "      <td>34.46</td>\n",
       "      <td>88.68</td>\n",
       "      <td>24.50</td>\n",
       "    </tr>\n",
       "    <tr>\n",
       "      <th>3</th>\n",
       "      <td>1</td>\n",
       "      <td>1</td>\n",
       "      <td>62.55</td>\n",
       "      <td>34.47</td>\n",
       "      <td>88.66</td>\n",
       "      <td>24.53</td>\n",
       "    </tr>\n",
       "    <tr>\n",
       "      <th>4</th>\n",
       "      <td>1</td>\n",
       "      <td>1</td>\n",
       "      <td>62.45</td>\n",
       "      <td>34.46</td>\n",
       "      <td>88.67</td>\n",
       "      <td>24.50</td>\n",
       "    </tr>\n",
       "    <tr>\n",
       "      <th>...</th>\n",
       "      <td>...</td>\n",
       "      <td>...</td>\n",
       "      <td>...</td>\n",
       "      <td>...</td>\n",
       "      <td>...</td>\n",
       "      <td>...</td>\n",
       "    </tr>\n",
       "    <tr>\n",
       "      <th>95</th>\n",
       "      <td>2</td>\n",
       "      <td>4</td>\n",
       "      <td>70.50</td>\n",
       "      <td>31.78</td>\n",
       "      <td>77.34</td>\n",
       "      <td>25.89</td>\n",
       "    </tr>\n",
       "    <tr>\n",
       "      <th>96</th>\n",
       "      <td>2</td>\n",
       "      <td>4</td>\n",
       "      <td>70.70</td>\n",
       "      <td>31.78</td>\n",
       "      <td>77.25</td>\n",
       "      <td>26.00</td>\n",
       "    </tr>\n",
       "    <tr>\n",
       "      <th>97</th>\n",
       "      <td>2</td>\n",
       "      <td>4</td>\n",
       "      <td>70.40</td>\n",
       "      <td>31.79</td>\n",
       "      <td>77.20</td>\n",
       "      <td>26.12</td>\n",
       "    </tr>\n",
       "    <tr>\n",
       "      <th>98</th>\n",
       "      <td>2</td>\n",
       "      <td>4</td>\n",
       "      <td>70.00</td>\n",
       "      <td>31.80</td>\n",
       "      <td>77.10</td>\n",
       "      <td>26.21</td>\n",
       "    </tr>\n",
       "    <tr>\n",
       "      <th>99</th>\n",
       "      <td>2</td>\n",
       "      <td>4</td>\n",
       "      <td>69.60</td>\n",
       "      <td>31.81</td>\n",
       "      <td>77.10</td>\n",
       "      <td>26.40</td>\n",
       "    </tr>\n",
       "  </tbody>\n",
       "</table>\n",
       "<p>100 rows × 6 columns</p>\n",
       "</div>"
      ],
      "text/plain": [
       "    Sex  Age_Group  Glabellar  Piriform_Height  Maxillary  Piriform_Width\n",
       "0     1          1      62.70            34.41      88.70           24.50\n",
       "1     1          1      62.60            34.45      88.69           24.55\n",
       "2     1          1      62.50            34.46      88.68           24.50\n",
       "3     1          1      62.55            34.47      88.66           24.53\n",
       "4     1          1      62.45            34.46      88.67           24.50\n",
       "..  ...        ...        ...              ...        ...             ...\n",
       "95    2          4      70.50            31.78      77.34           25.89\n",
       "96    2          4      70.70            31.78      77.25           26.00\n",
       "97    2          4      70.40            31.79      77.20           26.12\n",
       "98    2          4      70.00            31.80      77.10           26.21\n",
       "99    2          4      69.60            31.81      77.10           26.40\n",
       "\n",
       "[100 rows x 6 columns]"
      ]
     },
     "execution_count": 11,
     "metadata": {},
     "output_type": "execute_result"
    }
   ],
   "source": [
    "data_sel = data_Total.drop([\"ID_Patient\", \"Male_Group\", \"Femle_Group\",\"Age\"], axis = 1)\n",
    "data_sel"
   ]
  },
  {
   "cell_type": "code",
   "execution_count": 12,
   "id": "a09a5715",
   "metadata": {},
   "outputs": [
    {
     "data": {
      "text/plain": [
       "(6, 6)"
      ]
     },
     "execution_count": 12,
     "metadata": {},
     "output_type": "execute_result"
    }
   ],
   "source": [
    "corr =data_sel.corr()\n",
    "corr.shape"
   ]
  },
  {
   "cell_type": "code",
   "execution_count": 13,
   "id": "19d6ad87",
   "metadata": {},
   "outputs": [
    {
     "data": {
      "image/png": "[encoded data removed]",
      "text/plain": [
       "<Figure size 720x720 with 2 Axes>"
      ]
     },
     "metadata": {},
     "output_type": "display_data"
    }
   ],
   "source": [
    "mask = np.zeros_like(corr)\n",
    "mask[np.triu_indices_from(mask)] = True\n",
    "with sns.axes_style(\"white\"):\n",
    "    f, ax = plt.subplots(figsize=(10, 10))\n",
    "    ax = sns.heatmap(corr, cbar=True, square= True, fmt='.1f', annot=True, annot_kws={'size':15}, cmap='hot',linewidths=.5,mask = mask)"
   ]
  },
  {
   "cell_type": "code",
   "execution_count": 14,
   "id": "c6bcf9ab",
   "metadata": {},
   "outputs": [
    {
     "name": "stdout",
     "output_type": "stream",
     "text": [
      "seaborn: 0.11.2\n"
     ]
    }
   ],
   "source": [
    "print('seaborn: %s' % sns.__version__)"
   ]
  },
  {
   "cell_type": "code",
   "execution_count": 15,
   "id": "7463660e",
   "metadata": {},
   "outputs": [
    {
     "name": "stdout",
     "output_type": "stream",
     "text": [
      "0.24.2\n"
     ]
    }
   ],
   "source": [
    "print(sklearn.__version__)"
   ]
  },
  {
   "cell_type": "code",
   "execution_count": 16,
   "id": "1dc5eb79",
   "metadata": {},
   "outputs": [
    {
     "name": "stdout",
     "output_type": "stream",
     "text": [
      "\n"
     ]
    }
   ],
   "source": [
    "print()"
   ]
  },
  {
   "cell_type": "code",
   "execution_count": 17,
   "id": "daaa9c0d",
   "metadata": {},
   "outputs": [
    {
     "data": {
      "text/plain": [
       "<seaborn.axisgrid.FacetGrid at 0x212241c2c10>"
      ]
     },
     "execution_count": 17,
     "metadata": {},
     "output_type": "execute_result"
    },
    {
     "data": {
      "image/png": "[encoded data removed]",
      "text/plain": [
       "<Figure size 402.375x360 with 1 Axes>"
      ]
     },
     "metadata": {
      "needs_background": "light"
     },
     "output_type": "display_data"
    }
   ],
   "source": [
    "# number of total Servived sex\n",
    "sns.displot(data=data_sel, x=\"Age_Group\",hue='Sex') "
   ]
  },
  {
   "cell_type": "code",
   "execution_count": 18,
   "id": "ffc8caa6",
   "metadata": {},
   "outputs": [
    {
     "data": {
      "text/plain": [
       "<seaborn.axisgrid.FacetGrid at 0x212246b2e50>"
      ]
     },
     "execution_count": 18,
     "metadata": {},
     "output_type": "execute_result"
    },
    {
     "data": {
      "image/png": "[encoded data removed]",
      "text/plain": [
       "<Figure size 402.375x360 with 1 Axes>"
      ]
     },
     "metadata": {
      "needs_background": "light"
     },
     "output_type": "display_data"
    }
   ],
   "source": [
    "sns.displot(data=data_sel, x=\"Age_Group\",hue='Sex',kind ='kde') "
   ]
  },
  {
   "cell_type": "markdown",
   "id": "cc45f191",
   "metadata": {},
   "source": [
    "<div class=\"alert alert-block alert-info\" dir=\"ltr\" style=\"text-align: center;\"><strong><span style=\"font-family: courier new, courier; font-size: 18pt;\">Train  Model </span></strong>\n",
    "<p style=\"text-align: center;\"><strong><span style=\"font-family: courier new, courier; font-size: 18pt;\">\n",
    "</div>"
   ]
  },
  {
   "cell_type": "markdown",
   "id": "b63778f7",
   "metadata": {},
   "source": [
    "<div class=\"alert alert-block alert-info\" dir=\"ltr\" style=\"text-align: center;\"><strong><span style=\"font-family: courier new, courier; font-size: 18pt;\">Logistic Regression </span></strong>"
   ]
  },
  {
   "cell_type": "code",
   "execution_count": 19,
   "id": "6dc370e0",
   "metadata": {},
   "outputs": [],
   "source": [
    "from sklearn.linear_model import LogisticRegression # for Logistic Regression Algorithm\n",
    "from sklearn.model_selection import train_test_split # to split the dataset for training and testing \n",
    "from sklearn import metrics # for checking the model accuracy\n"
   ]
  },
  {
   "cell_type": "code",
   "execution_count": 20,
   "id": "f31a3050",
   "metadata": {},
   "outputs": [
    {
     "data": {
      "text/html": [
       "<div>\n",
       "<style scoped>\n",
       "    .dataframe tbody tr th:only-of-type {\n",
       "        vertical-align: middle;\n",
       "    }\n",
       "\n",
       "    .dataframe tbody tr th {\n",
       "        vertical-align: top;\n",
       "    }\n",
       "\n",
       "    .dataframe thead th {\n",
       "        text-align: right;\n",
       "    }\n",
       "</style>\n",
       "<table border=\"1\" class=\"dataframe\">\n",
       "  <thead>\n",
       "    <tr style=\"text-align: right;\">\n",
       "      <th></th>\n",
       "      <th>Sex</th>\n",
       "      <th>Age_Group</th>\n",
       "      <th>Glabellar</th>\n",
       "      <th>Piriform_Height</th>\n",
       "      <th>Maxillary</th>\n",
       "      <th>Piriform_Width</th>\n",
       "    </tr>\n",
       "  </thead>\n",
       "  <tbody>\n",
       "    <tr>\n",
       "      <th>0</th>\n",
       "      <td>1</td>\n",
       "      <td>1</td>\n",
       "      <td>62.70</td>\n",
       "      <td>34.41</td>\n",
       "      <td>88.70</td>\n",
       "      <td>24.50</td>\n",
       "    </tr>\n",
       "    <tr>\n",
       "      <th>1</th>\n",
       "      <td>1</td>\n",
       "      <td>1</td>\n",
       "      <td>62.60</td>\n",
       "      <td>34.45</td>\n",
       "      <td>88.69</td>\n",
       "      <td>24.55</td>\n",
       "    </tr>\n",
       "    <tr>\n",
       "      <th>2</th>\n",
       "      <td>1</td>\n",
       "      <td>1</td>\n",
       "      <td>62.50</td>\n",
       "      <td>34.46</td>\n",
       "      <td>88.68</td>\n",
       "      <td>24.50</td>\n",
       "    </tr>\n",
       "    <tr>\n",
       "      <th>3</th>\n",
       "      <td>1</td>\n",
       "      <td>1</td>\n",
       "      <td>62.55</td>\n",
       "      <td>34.47</td>\n",
       "      <td>88.66</td>\n",
       "      <td>24.53</td>\n",
       "    </tr>\n",
       "    <tr>\n",
       "      <th>4</th>\n",
       "      <td>1</td>\n",
       "      <td>1</td>\n",
       "      <td>62.45</td>\n",
       "      <td>34.46</td>\n",
       "      <td>88.67</td>\n",
       "      <td>24.50</td>\n",
       "    </tr>\n",
       "    <tr>\n",
       "      <th>...</th>\n",
       "      <td>...</td>\n",
       "      <td>...</td>\n",
       "      <td>...</td>\n",
       "      <td>...</td>\n",
       "      <td>...</td>\n",
       "      <td>...</td>\n",
       "    </tr>\n",
       "    <tr>\n",
       "      <th>95</th>\n",
       "      <td>2</td>\n",
       "      <td>4</td>\n",
       "      <td>70.50</td>\n",
       "      <td>31.78</td>\n",
       "      <td>77.34</td>\n",
       "      <td>25.89</td>\n",
       "    </tr>\n",
       "    <tr>\n",
       "      <th>96</th>\n",
       "      <td>2</td>\n",
       "      <td>4</td>\n",
       "      <td>70.70</td>\n",
       "      <td>31.78</td>\n",
       "      <td>77.25</td>\n",
       "      <td>26.00</td>\n",
       "    </tr>\n",
       "    <tr>\n",
       "      <th>97</th>\n",
       "      <td>2</td>\n",
       "      <td>4</td>\n",
       "      <td>70.40</td>\n",
       "      <td>31.79</td>\n",
       "      <td>77.20</td>\n",
       "      <td>26.12</td>\n",
       "    </tr>\n",
       "    <tr>\n",
       "      <th>98</th>\n",
       "      <td>2</td>\n",
       "      <td>4</td>\n",
       "      <td>70.00</td>\n",
       "      <td>31.80</td>\n",
       "      <td>77.10</td>\n",
       "      <td>26.21</td>\n",
       "    </tr>\n",
       "    <tr>\n",
       "      <th>99</th>\n",
       "      <td>2</td>\n",
       "      <td>4</td>\n",
       "      <td>69.60</td>\n",
       "      <td>31.81</td>\n",
       "      <td>77.10</td>\n",
       "      <td>26.40</td>\n",
       "    </tr>\n",
       "  </tbody>\n",
       "</table>\n",
       "<p>100 rows × 6 columns</p>\n",
       "</div>"
      ],
      "text/plain": [
       "    Sex  Age_Group  Glabellar  Piriform_Height  Maxillary  Piriform_Width\n",
       "0     1          1      62.70            34.41      88.70           24.50\n",
       "1     1          1      62.60            34.45      88.69           24.55\n",
       "2     1          1      62.50            34.46      88.68           24.50\n",
       "3     1          1      62.55            34.47      88.66           24.53\n",
       "4     1          1      62.45            34.46      88.67           24.50\n",
       "..  ...        ...        ...              ...        ...             ...\n",
       "95    2          4      70.50            31.78      77.34           25.89\n",
       "96    2          4      70.70            31.78      77.25           26.00\n",
       "97    2          4      70.40            31.79      77.20           26.12\n",
       "98    2          4      70.00            31.80      77.10           26.21\n",
       "99    2          4      69.60            31.81      77.10           26.40\n",
       "\n",
       "[100 rows x 6 columns]"
      ]
     },
     "execution_count": 20,
     "metadata": {},
     "output_type": "execute_result"
    }
   ],
   "source": [
    "data_sel"
   ]
  },
  {
   "cell_type": "code",
   "execution_count": 21,
   "id": "11483eaa",
   "metadata": {},
   "outputs": [
    {
     "data": {
      "text/plain": [
       "0     1\n",
       "1     1\n",
       "2     1\n",
       "3     1\n",
       "4     1\n",
       "     ..\n",
       "95    4\n",
       "96    4\n",
       "97    4\n",
       "98    4\n",
       "99    4\n",
       "Name: Age_Group, Length: 100, dtype: int64"
      ]
     },
     "execution_count": 21,
     "metadata": {},
     "output_type": "execute_result"
    }
   ],
   "source": [
    "X = data_sel.drop(['Age_Group'],axis = 1)\n",
    "y = data_sel['Age_Group']\n",
    "y"
   ]
  },
  {
   "cell_type": "code",
   "execution_count": 22,
   "id": "67dcfca5",
   "metadata": {},
   "outputs": [
    {
     "name": "stdout",
     "output_type": "stream",
     "text": [
      "(100, 5)\n",
      "(100,)\n"
     ]
    }
   ],
   "source": [
    "print(X.shape)\n",
    "print(y.shape)"
   ]
  },
  {
   "cell_type": "code",
   "execution_count": 23,
   "id": "e52eeb0c",
   "metadata": {},
   "outputs": [
    {
     "name": "stdout",
     "output_type": "stream",
     "text": [
      "(75, 5)\n",
      "(75,)\n",
      "(25, 5)\n",
      "(25,)\n"
     ]
    }
   ],
   "source": [
    "X_train, X_test, y_train, y_test = train_test_split(X,y, test_size =0.25, random_state = 4)\n",
    "print(X_train.shape)\n",
    "print(y_train.shape)\n",
    "print(X_test.shape)\n",
    "print(y_test.shape)"
   ]
  },
  {
   "cell_type": "code",
   "execution_count": 24,
   "id": "6c5d6570",
   "metadata": {},
   "outputs": [
    {
     "data": {
      "text/plain": [
       "LogisticRegression()"
      ]
     },
     "execution_count": 24,
     "metadata": {},
     "output_type": "execute_result"
    }
   ],
   "source": [
    "logreg = LogisticRegression()\n",
    "logreg.fit(X_train, y_train)"
   ]
  },
  {
   "cell_type": "code",
   "execution_count": 25,
   "id": "167ae412",
   "metadata": {},
   "outputs": [],
   "source": [
    "y_pred = logreg.predict(X_test)"
   ]
  },
  {
   "cell_type": "code",
   "execution_count": 26,
   "id": "6d045cdb",
   "metadata": {},
   "outputs": [
    {
     "name": "stdout",
     "output_type": "stream",
     "text": [
      "The accuracy of Logistic Regression is:  0.68\n"
     ]
    }
   ],
   "source": [
    "print('The accuracy of Logistic Regression is: ', (metrics.accuracy_score(y_test, y_pred)))"
   ]
  },
  {
   "cell_type": "code",
   "execution_count": 27,
   "id": "133ffd47",
   "metadata": {},
   "outputs": [
    {
     "name": "stdout",
     "output_type": "stream",
     "text": [
      "The Recall of Logistic Regression is:  0.68\n"
     ]
    }
   ],
   "source": [
    "from sklearn.metrics import recall_score\n",
    "print('The Recall of Logistic Regression is: ', (metrics.recall_score(y_test, y_pred,average='micro')))"
   ]
  },
  {
   "cell_type": "code",
   "execution_count": 28,
   "id": "b5a2cd12",
   "metadata": {},
   "outputs": [
    {
     "name": "stdout",
     "output_type": "stream",
     "text": [
      "The Precision of Logistic Regression is:  0.68\n"
     ]
    }
   ],
   "source": [
    "# Precision\n",
    "from sklearn.metrics import precision_score\n",
    "print('The Precision of Logistic Regression is: ', (metrics.precision_score(y_test, y_pred,average='micro')))"
   ]
  },
  {
   "cell_type": "code",
   "execution_count": 29,
   "id": "6b0dfa52",
   "metadata": {},
   "outputs": [],
   "source": [
    "from sklearn.metrics import confusion_matrix\n",
    "from sklearn.metrics import classification_report"
   ]
  },
  {
   "cell_type": "code",
   "execution_count": 30,
   "id": "57e4959b",
   "metadata": {},
   "outputs": [
    {
     "name": "stdout",
     "output_type": "stream",
     "text": [
      "              precision    recall  f1-score   support\n",
      "\n",
      "           1       1.00      0.25      0.40         4\n",
      "           2       0.64      1.00      0.78         9\n",
      "           3       0.71      0.62      0.67         8\n",
      "           4       0.67      0.50      0.57         4\n",
      "\n",
      "    accuracy                           0.68        25\n",
      "   macro avg       0.76      0.59      0.61        25\n",
      "weighted avg       0.73      0.68      0.65        25\n",
      "\n"
     ]
    }
   ],
   "source": [
    "print(classification_report(y_test, y_pred))"
   ]
  },
  {
   "cell_type": "code",
   "execution_count": 31,
   "id": "2d264d91",
   "metadata": {},
   "outputs": [],
   "source": [
    "confusion_matrix = pd.crosstab(logreg.predict(X),y)"
   ]
  },
  {
   "cell_type": "code",
   "execution_count": null,
   "id": "5ba2dc4b",
   "metadata": {},
   "outputs": [],
   "source": []
  },
  {
   "cell_type": "code",
   "execution_count": 32,
   "id": "73cb32b7",
   "metadata": {},
   "outputs": [
    {
     "data": {
      "text/html": [
       "<div>\n",
       "<style scoped>\n",
       "    .dataframe tbody tr th:only-of-type {\n",
       "        vertical-align: middle;\n",
       "    }\n",
       "\n",
       "    .dataframe tbody tr th {\n",
       "        vertical-align: top;\n",
       "    }\n",
       "\n",
       "    .dataframe thead th {\n",
       "        text-align: right;\n",
       "    }\n",
       "</style>\n",
       "<table border=\"1\" class=\"dataframe\">\n",
       "  <thead>\n",
       "    <tr style=\"text-align: right;\">\n",
       "      <th>Age_Group</th>\n",
       "      <th>1</th>\n",
       "      <th>2</th>\n",
       "      <th>3</th>\n",
       "      <th>4</th>\n",
       "    </tr>\n",
       "    <tr>\n",
       "      <th>row_0</th>\n",
       "      <th></th>\n",
       "      <th></th>\n",
       "      <th></th>\n",
       "      <th></th>\n",
       "    </tr>\n",
       "  </thead>\n",
       "  <tbody>\n",
       "    <tr>\n",
       "      <th>1</th>\n",
       "      <td>4</td>\n",
       "      <td>0</td>\n",
       "      <td>0</td>\n",
       "      <td>0</td>\n",
       "    </tr>\n",
       "    <tr>\n",
       "      <th>2</th>\n",
       "      <td>10</td>\n",
       "      <td>40</td>\n",
       "      <td>3</td>\n",
       "      <td>0</td>\n",
       "    </tr>\n",
       "    <tr>\n",
       "      <th>3</th>\n",
       "      <td>0</td>\n",
       "      <td>0</td>\n",
       "      <td>26</td>\n",
       "      <td>7</td>\n",
       "    </tr>\n",
       "    <tr>\n",
       "      <th>4</th>\n",
       "      <td>0</td>\n",
       "      <td>0</td>\n",
       "      <td>2</td>\n",
       "      <td>8</td>\n",
       "    </tr>\n",
       "  </tbody>\n",
       "</table>\n",
       "</div>"
      ],
      "text/plain": [
       "Age_Group   1   2   3  4\n",
       "row_0                   \n",
       "1           4   0   0  0\n",
       "2          10  40   3  0\n",
       "3           0   0  26  7\n",
       "4           0   0   2  8"
      ]
     },
     "execution_count": 32,
     "metadata": {},
     "output_type": "execute_result"
    }
   ],
   "source": [
    "confusion_matrix"
   ]
  },
  {
   "cell_type": "code",
   "execution_count": 33,
   "id": "a5b2d2b4",
   "metadata": {},
   "outputs": [],
   "source": [
    "from sklearn.metrics import confusion_matrix, accuracy_score"
   ]
  },
  {
   "cell_type": "code",
   "execution_count": 34,
   "id": "34c7bceb",
   "metadata": {},
   "outputs": [],
   "source": [
    "cm =confusion_matrix(y_test, y_pred)"
   ]
  },
  {
   "cell_type": "code",
   "execution_count": 35,
   "id": "79c41e48",
   "metadata": {},
   "outputs": [
    {
     "data": {
      "image/png": "[encoded data removed]",
      "text/plain": [
       "<Figure size 432x288 with 2 Axes>"
      ]
     },
     "metadata": {
      "needs_background": "light"
     },
     "output_type": "display_data"
    }
   ],
   "source": [
    "sns.heatmap(cm,square=True , annot=True, cmap=\"Greens\")\n",
    "plt.show()"
   ]
  },
  {
   "cell_type": "markdown",
   "id": "825ffaaa",
   "metadata": {},
   "source": [
    "<div class=\"alert alert-block alert-info\" dir=\"ltr\" style=\"text-align: center;\"><strong> <span style=\"font-family: courier new, courier; font-size: 18pt;\"> KNN Regressor</span></strong>"
   ]
  },
  {
   "cell_type": "code",
   "execution_count": 36,
   "id": "9ec9b808",
   "metadata": {},
   "outputs": [],
   "source": [
    "from sklearn.neighbors import KNeighborsClassifier"
   ]
  },
  {
   "cell_type": "code",
   "execution_count": 37,
   "id": "7ec1f8a8",
   "metadata": {},
   "outputs": [
    {
     "name": "stdout",
     "output_type": "stream",
     "text": [
      "(75, 5)\n",
      "(75,)\n",
      "(25, 5)\n",
      "(25,)\n"
     ]
    }
   ],
   "source": [
    "X_train, X_test, y_train, y_test = train_test_split(X,y, test_size =0.25, random_state = 4)\n",
    "print(X_train.shape)\n",
    "print(y_train.shape)\n",
    "print(X_test.shape)\n",
    "print(y_test.shape)"
   ]
  },
  {
   "cell_type": "code",
   "execution_count": 38,
   "id": "17e54c7a",
   "metadata": {},
   "outputs": [],
   "source": [
    "knn = KNeighborsClassifier()"
   ]
  },
  {
   "cell_type": "code",
   "execution_count": 39,
   "id": "342fb9fe",
   "metadata": {},
   "outputs": [
    {
     "data": {
      "text/plain": [
       "KNeighborsClassifier()"
      ]
     },
     "execution_count": 39,
     "metadata": {},
     "output_type": "execute_result"
    }
   ],
   "source": [
    "knn.fit(X_train, y_train)"
   ]
  },
  {
   "cell_type": "code",
   "execution_count": 40,
   "id": "6407f81e",
   "metadata": {},
   "outputs": [],
   "source": [
    "y_pred_knn = knn.predict(X_test)"
   ]
  },
  {
   "cell_type": "code",
   "execution_count": 41,
   "id": "75cb75b5",
   "metadata": {},
   "outputs": [
    {
     "data": {
      "text/plain": [
       "0.9066666666666666"
      ]
     },
     "execution_count": 41,
     "metadata": {},
     "output_type": "execute_result"
    }
   ],
   "source": [
    "knn.score(X_train, y_train)"
   ]
  },
  {
   "cell_type": "code",
   "execution_count": 42,
   "id": "ba205a13",
   "metadata": {},
   "outputs": [
    {
     "data": {
      "text/plain": [
       "0.96"
      ]
     },
     "execution_count": 42,
     "metadata": {},
     "output_type": "execute_result"
    }
   ],
   "source": [
    "knn.score(X_test, y_test)"
   ]
  },
  {
   "cell_type": "code",
   "execution_count": 43,
   "id": "3218cd07",
   "metadata": {},
   "outputs": [],
   "source": [
    "from sklearn.metrics import confusion_matrix\n",
    "from sklearn.metrics import classification_report"
   ]
  },
  {
   "cell_type": "code",
   "execution_count": 44,
   "id": "dd8f5528",
   "metadata": {},
   "outputs": [
    {
     "name": "stdout",
     "output_type": "stream",
     "text": [
      "              precision    recall  f1-score   support\n",
      "\n",
      "           1       1.00      1.00      1.00         4\n",
      "           2       1.00      1.00      1.00         9\n",
      "           3       0.89      1.00      0.94         8\n",
      "           4       1.00      0.75      0.86         4\n",
      "\n",
      "    accuracy                           0.96        25\n",
      "   macro avg       0.97      0.94      0.95        25\n",
      "weighted avg       0.96      0.96      0.96        25\n",
      "\n"
     ]
    }
   ],
   "source": [
    "print(classification_report(y_test, y_pred_knn))"
   ]
  },
  {
   "cell_type": "code",
   "execution_count": 45,
   "id": "fb61d760",
   "metadata": {},
   "outputs": [
    {
     "data": {
      "text/plain": [
       "<AxesSubplot:>"
      ]
     },
     "execution_count": 45,
     "metadata": {},
     "output_type": "execute_result"
    },
    {
     "data": {
      "image/png": "[encoded data removed]",
      "text/plain": [
       "<Figure size 432x288 with 2 Axes>"
      ]
     },
     "metadata": {
      "needs_background": "light"
     },
     "output_type": "display_data"
    }
   ],
   "source": [
    "cm =confusion_matrix(y_test, y_pred_knn)\n",
    "sns.heatmap(cm, square=True , annot=True,cmap =\"YlGnBu\")"
   ]
  },
  {
   "cell_type": "markdown",
   "id": "ea7a8ac0",
   "metadata": {},
   "source": [
    "## Optimal value of K"
   ]
  },
  {
   "cell_type": "code",
   "execution_count": 46,
   "id": "79756628",
   "metadata": {},
   "outputs": [],
   "source": [
    "error_rate = []\n",
    "# Might take some time\n",
    "for i in range(1,40):\n",
    "    \n",
    "    knn = KNeighborsClassifier(n_neighbors=i)\n",
    "    knn.fit(X_train,y_train)\n",
    "    pred_i = knn.predict(X_test)\n",
    "    error_rate.append(np.mean(pred_i != y_test))"
   ]
  },
  {
   "cell_type": "code",
   "execution_count": 47,
   "id": "397a3d16",
   "metadata": {},
   "outputs": [
    {
     "data": {
      "text/plain": [
       "Text(0, 0.5, 'Error Rate')"
      ]
     },
     "execution_count": 47,
     "metadata": {},
     "output_type": "execute_result"
    },
    {
     "data": {
      "image/png": "[encoded data removed]",
      "text/plain": [
       "<Figure size 720x432 with 1 Axes>"
      ]
     },
     "metadata": {
      "needs_background": "light"
     },
     "output_type": "display_data"
    }
   ],
   "source": [
    "plt.figure(figsize=(10,6))\n",
    "plt.plot(range(1,40),error_rate,color='blue', linestyle='dashed', marker='o',\n",
    "         markerfacecolor='red', markersize=15)\n",
    "plt.title('Error Rate vs. K Value')\n",
    "plt.xlabel('K')\n",
    "plt.ylabel('Error Rate')"
   ]
  },
  {
   "cell_type": "code",
   "execution_count": 48,
   "id": "11df333e",
   "metadata": {},
   "outputs": [],
   "source": [
    "# min Error Rate  = 3\n",
    "knn_Node2 = KNeighborsClassifier(n_neighbors=2)"
   ]
  },
  {
   "cell_type": "code",
   "execution_count": 49,
   "id": "7c36308a",
   "metadata": {},
   "outputs": [
    {
     "data": {
      "text/plain": [
       "KNeighborsClassifier(n_neighbors=2)"
      ]
     },
     "execution_count": 49,
     "metadata": {},
     "output_type": "execute_result"
    }
   ],
   "source": [
    "knn_Node2.fit(X_train, y_train)"
   ]
  },
  {
   "cell_type": "code",
   "execution_count": 50,
   "id": "6ed564cc",
   "metadata": {},
   "outputs": [],
   "source": [
    "y_pred_knn_Node2 = knn_Node2.predict(X_test)"
   ]
  },
  {
   "cell_type": "code",
   "execution_count": 51,
   "id": "0da61302",
   "metadata": {},
   "outputs": [
    {
     "data": {
      "text/plain": [
       "0.9733333333333334"
      ]
     },
     "execution_count": 51,
     "metadata": {},
     "output_type": "execute_result"
    }
   ],
   "source": [
    "knn_Node2.score(X_train, y_train)"
   ]
  },
  {
   "cell_type": "code",
   "execution_count": 52,
   "id": "9c6eb16f",
   "metadata": {},
   "outputs": [
    {
     "data": {
      "text/plain": [
       "1.0"
      ]
     },
     "execution_count": 52,
     "metadata": {},
     "output_type": "execute_result"
    }
   ],
   "source": [
    "knn_Node2.score(X_test, y_test)"
   ]
  },
  {
   "cell_type": "code",
   "execution_count": 53,
   "id": "fd07887c",
   "metadata": {},
   "outputs": [
    {
     "name": "stdout",
     "output_type": "stream",
     "text": [
      "              precision    recall  f1-score   support\n",
      "\n",
      "           1       1.00      1.00      1.00         4\n",
      "           2       1.00      1.00      1.00         9\n",
      "           3       1.00      1.00      1.00         8\n",
      "           4       1.00      1.00      1.00         4\n",
      "\n",
      "    accuracy                           1.00        25\n",
      "   macro avg       1.00      1.00      1.00        25\n",
      "weighted avg       1.00      1.00      1.00        25\n",
      "\n"
     ]
    }
   ],
   "source": [
    "print(classification_report(y_test, y_pred_knn_Node2))"
   ]
  },
  {
   "cell_type": "markdown",
   "id": "f2bc1643",
   "metadata": {},
   "source": [
    "<div class=\"alert alert-block alert-info\" dir=\"ltr\" style=\"text-align: center;\"><strong> <span style=\"font-family: courier new, courier; font-size: 18pt;\"> Decision Tree</span></strong>"
   ]
  },
  {
   "cell_type": "code",
   "execution_count": 54,
   "id": "31768d71",
   "metadata": {},
   "outputs": [
    {
     "name": "stdout",
     "output_type": "stream",
     "text": [
      "(75, 5)\n",
      "(75,)\n",
      "(25, 5)\n",
      "(25,)\n"
     ]
    }
   ],
   "source": [
    "from sklearn.model_selection import train_test_split\n",
    "X_train, X_test, y_train, y_test = train_test_split(X, y, test_size = 0.25, random_state = 0)\n",
    "print(X_train.shape)\n",
    "print(y_train.shape)\n",
    "print(X_test.shape)\n",
    "print(y_test.shape)"
   ]
  },
  {
   "cell_type": "code",
   "execution_count": 55,
   "id": "1076a4b1",
   "metadata": {},
   "outputs": [
    {
     "data": {
      "text/plain": [
       "DecisionTreeClassifier(criterion='entropy', random_state=0)"
      ]
     },
     "execution_count": 55,
     "metadata": {},
     "output_type": "execute_result"
    }
   ],
   "source": [
    "from sklearn.tree import DecisionTreeClassifier\n",
    "classifier_Decicsion = DecisionTreeClassifier(criterion = 'entropy', random_state = 0)\n",
    "classifier_Decicsion.fit(X_train, y_train)"
   ]
  },
  {
   "cell_type": "code",
   "execution_count": 56,
   "id": "98289461",
   "metadata": {},
   "outputs": [],
   "source": [
    "y_pred_Decision = classifier_Decicsion.predict(X_test)"
   ]
  },
  {
   "cell_type": "code",
   "execution_count": 57,
   "id": "8ccb215e",
   "metadata": {},
   "outputs": [
    {
     "name": "stdout",
     "output_type": "stream",
     "text": [
      "[[5 0 0 0]\n",
      " [1 9 0 0]\n",
      " [0 0 6 0]\n",
      " [0 0 2 2]]\n"
     ]
    },
    {
     "data": {
      "text/plain": [
       "0.88"
      ]
     },
     "execution_count": 57,
     "metadata": {},
     "output_type": "execute_result"
    }
   ],
   "source": [
    "from sklearn.metrics import confusion_matrix, accuracy_score\n",
    "cm = confusion_matrix(y_test, y_pred_Decision)\n",
    "print(cm)\n",
    "accuracy_score(y_test,y_pred_Decision)"
   ]
  },
  {
   "cell_type": "code",
   "execution_count": 58,
   "id": "e117376e",
   "metadata": {},
   "outputs": [
    {
     "data": {
      "text/plain": [
       "<AxesSubplot:>"
      ]
     },
     "execution_count": 58,
     "metadata": {},
     "output_type": "execute_result"
    },
    {
     "data": {
      "image/png": "[encoded data removed]",
      "text/plain": [
       "<Figure size 432x288 with 2 Axes>"
      ]
     },
     "metadata": {
      "needs_background": "light"
     },
     "output_type": "display_data"
    }
   ],
   "source": [
    "sns.heatmap(cm, square=True , annot=True,cmap=\"Greens\")"
   ]
  },
  {
   "cell_type": "code",
   "execution_count": 59,
   "id": "03431f24",
   "metadata": {},
   "outputs": [
    {
     "name": "stdout",
     "output_type": "stream",
     "text": [
      "              precision    recall  f1-score   support\n",
      "\n",
      "           1       0.83      1.00      0.91         5\n",
      "           2       1.00      0.90      0.95        10\n",
      "           3       0.75      1.00      0.86         6\n",
      "           4       1.00      0.50      0.67         4\n",
      "\n",
      "    accuracy                           0.88        25\n",
      "   macro avg       0.90      0.85      0.85        25\n",
      "weighted avg       0.91      0.88      0.87        25\n",
      "\n"
     ]
    }
   ],
   "source": [
    "print(classification_report(y_test, y_pred_Decision))"
   ]
  },
  {
   "cell_type": "markdown",
   "id": "66ddcc9a",
   "metadata": {},
   "source": [
    "<div class=\"alert alert-block alert-info\" dir=\"ltr\" style=\"text-align: center;\"><strong> <span style=\"font-family: courier new, courier; font-size: 18pt;\"> Random Forest </span></strong>"
   ]
  },
  {
   "cell_type": "code",
   "execution_count": 60,
   "id": "65ca3101",
   "metadata": {},
   "outputs": [
    {
     "name": "stdout",
     "output_type": "stream",
     "text": [
      "(75, 5)\n",
      "(75,)\n",
      "(25, 5)\n",
      "(25,)\n"
     ]
    }
   ],
   "source": [
    "X_train, X_test, y_train, y_test = train_test_split(X,y, test_size =0.25, random_state = 4)\n",
    "print(X_train.shape)\n",
    "print(y_train.shape)\n",
    "print(X_test.shape)\n",
    "print(y_test.shape)"
   ]
  },
  {
   "cell_type": "code",
   "execution_count": 61,
   "id": "68288d53",
   "metadata": {},
   "outputs": [
    {
     "data": {
      "text/plain": [
       "RandomForestClassifier(criterion='entropy', random_state=42)"
      ]
     },
     "execution_count": 61,
     "metadata": {},
     "output_type": "execute_result"
    }
   ],
   "source": [
    "# Building  Random Forest Classifier\n",
    "from sklearn.ensemble import RandomForestClassifier\n",
    "rfc = RandomForestClassifier(criterion = 'entropy', random_state = 42)\n",
    "rfc.fit(X_train, y_train)"
   ]
  },
  {
   "cell_type": "code",
   "execution_count": 62,
   "id": "fee9370c",
   "metadata": {},
   "outputs": [
    {
     "name": "stdout",
     "output_type": "stream",
     "text": [
      "Testing Set Evaluation F1-Score=> 1.0\n"
     ]
    }
   ],
   "source": [
    "from sklearn.metrics import f1_score\n",
    "rfc_pred_test = rfc.predict(X_test)\n",
    "print('Testing Set Evaluation F1-Score=>',f1_score(y_test,rfc_pred_test,average = 'micro'))"
   ]
  },
  {
   "cell_type": "code",
   "execution_count": 63,
   "id": "c6449ce3",
   "metadata": {},
   "outputs": [
    {
     "name": "stdout",
     "output_type": "stream",
     "text": [
      "              precision    recall  f1-score   support\n",
      "\n",
      "           1       1.00      1.00      1.00         4\n",
      "           2       1.00      1.00      1.00         9\n",
      "           3       1.00      1.00      1.00         8\n",
      "           4       1.00      1.00      1.00         4\n",
      "\n",
      "    accuracy                           1.00        25\n",
      "   macro avg       1.00      1.00      1.00        25\n",
      "weighted avg       1.00      1.00      1.00        25\n",
      "\n"
     ]
    }
   ],
   "source": [
    "print(classification_report(y_test, rfc_pred_test))"
   ]
  },
  {
   "cell_type": "code",
   "execution_count": 64,
   "id": "14fe8807",
   "metadata": {},
   "outputs": [
    {
     "data": {
      "text/plain": [
       "<AxesSubplot:>"
      ]
     },
     "execution_count": 64,
     "metadata": {},
     "output_type": "execute_result"
    },
    {
     "data": {
      "image/png": "[encoded data removed]",
      "text/plain": [
       "<Figure size 432x288 with 2 Axes>"
      ]
     },
     "metadata": {
      "needs_background": "light"
     },
     "output_type": "display_data"
    }
   ],
   "source": [
    "from sklearn.metrics import confusion_matrix, accuracy_score\n",
    "cm = confusion_matrix(y_test,rfc_pred_test)\n",
    "\n",
    "sns.heatmap(cm, square=True , annot=True)"
   ]
  },
  {
   "cell_type": "markdown",
   "id": "135369f5",
   "metadata": {},
   "source": [
    "<div class=\"alert alert-block alert-info\" dir=\"ltr\" style=\"text-align: center;\"><strong> <span style=\"font-family: courier new, courier; font-size: 18pt;\"> SVM </span></strong>"
   ]
  },
  {
   "cell_type": "code",
   "execution_count": null,
   "id": "8cb2bb7c",
   "metadata": {},
   "outputs": [],
   "source": []
  },
  {
   "cell_type": "code",
   "execution_count": 65,
   "id": "d73013e3",
   "metadata": {},
   "outputs": [
    {
     "data": {
      "text/plain": [
       "SVC(kernel='linear')"
      ]
     },
     "execution_count": 65,
     "metadata": {},
     "output_type": "execute_result"
    }
   ],
   "source": [
    "from sklearn.svm import SVC\n",
    "svclassifier = SVC(kernel='linear')\n",
    "svclassifier.fit(X_train, y_train)"
   ]
  },
  {
   "cell_type": "code",
   "execution_count": 66,
   "id": "83b397e4",
   "metadata": {},
   "outputs": [],
   "source": [
    "y_pred_svm = svclassifier.predict(X_test)"
   ]
  },
  {
   "cell_type": "code",
   "execution_count": 67,
   "id": "80d1d58f",
   "metadata": {},
   "outputs": [
    {
     "data": {
      "text/plain": [
       "array([2, 2, 3, 2, 2, 2, 1, 4, 3, 4, 4, 1, 3, 2, 2, 3, 2, 2, 3, 1, 3, 1,\n",
       "       3, 3, 3], dtype=int64)"
      ]
     },
     "execution_count": 67,
     "metadata": {},
     "output_type": "execute_result"
    }
   ],
   "source": [
    "y_pred_svm"
   ]
  },
  {
   "cell_type": "code",
   "execution_count": 68,
   "id": "d63487d8",
   "metadata": {},
   "outputs": [
    {
     "name": "stdout",
     "output_type": "stream",
     "text": [
      "Accuracy of the Logistic Regression Model:  88.0\n"
     ]
    }
   ],
   "source": [
    "accuracy = accuracy_score(y_test, y_pred_svm) * 100\n",
    "print(\"Accuracy of the Logistic Regression Model: \",accuracy)"
   ]
  },
  {
   "cell_type": "code",
   "execution_count": 69,
   "id": "0f50689a",
   "metadata": {},
   "outputs": [
    {
     "name": "stdout",
     "output_type": "stream",
     "text": [
      "[[4 0 0 0]\n",
      " [0 9 0 0]\n",
      " [0 0 7 1]\n",
      " [0 0 2 2]]\n",
      "              precision    recall  f1-score   support\n",
      "\n",
      "           1       1.00      1.00      1.00         4\n",
      "           2       1.00      1.00      1.00         9\n",
      "           3       0.78      0.88      0.82         8\n",
      "           4       0.67      0.50      0.57         4\n",
      "\n",
      "    accuracy                           0.88        25\n",
      "   macro avg       0.86      0.84      0.85        25\n",
      "weighted avg       0.88      0.88      0.87        25\n",
      "\n"
     ]
    }
   ],
   "source": [
    "from sklearn.metrics import classification_report, confusion_matrix\n",
    "print(confusion_matrix(y_test,y_pred_svm))\n",
    "print(classification_report(y_test,y_pred_svm))"
   ]
  },
  {
   "cell_type": "code",
   "execution_count": 70,
   "id": "d9c9f539",
   "metadata": {},
   "outputs": [
    {
     "data": {
      "text/plain": [
       "<AxesSubplot:>"
      ]
     },
     "execution_count": 70,
     "metadata": {},
     "output_type": "execute_result"
    },
    {
     "data": {
      "image/png": "[encoded data removed]",
      "text/plain": [
       "<Figure size 432x288 with 2 Axes>"
      ]
     },
     "metadata": {
      "needs_background": "light"
     },
     "output_type": "display_data"
    }
   ],
   "source": [
    "cm =confusion_matrix(y_test,y_pred_svm)\n",
    "sns.heatmap(cm, square=True , annot=True,cmap=\"Greens\")"
   ]
  },
  {
   "cell_type": "markdown",
   "id": "a2cc4fd4",
   "metadata": {},
   "source": [
    "<div class=\"alert alert-block alert-info\" dir=\"ltr\" style=\"text-align: center;\"><strong> <span style=\"font-family: courier new, courier; font-size: 18pt;\"> XGBoost </span></strong>"
   ]
  },
  {
   "cell_type": "code",
   "execution_count": 71,
   "id": "2e19daa4",
   "metadata": {},
   "outputs": [
    {
     "name": "stdout",
     "output_type": "stream",
     "text": [
      "Requirement already satisfied: xgboost==0.90 in c:\\users\\salio\\anaconda3\\lib\\site-packages (0.90)\n",
      "Requirement already satisfied: scipy in c:\\users\\salio\\anaconda3\\lib\\site-packages (from xgboost==0.90) (1.7.1)\n",
      "Requirement already satisfied: numpy in c:\\users\\salio\\anaconda3\\lib\\site-packages (from xgboost==0.90) (1.20.3)\n"
     ]
    }
   ],
   "source": [
    "!pip install xgboost==0.90"
   ]
  },
  {
   "cell_type": "code",
   "execution_count": 72,
   "id": "64117fc4",
   "metadata": {},
   "outputs": [],
   "source": [
    "import xgboost as xgb"
   ]
  },
  {
   "cell_type": "code",
   "execution_count": 73,
   "id": "1e005f6f",
   "metadata": {},
   "outputs": [
    {
     "name": "stdout",
     "output_type": "stream",
     "text": [
      "(75, 5)\n",
      "(75,)\n",
      "(25, 5)\n",
      "(25,)\n"
     ]
    }
   ],
   "source": [
    "X_train, X_test, y_train, y_test = train_test_split(X,y, test_size =0.25, random_state = 4)\n",
    "print(X_train.shape)\n",
    "print(y_train.shape)\n",
    "print(X_test.shape)\n",
    "print(y_test.shape)"
   ]
  },
  {
   "cell_type": "code",
   "execution_count": 74,
   "id": "d6cabfed",
   "metadata": {},
   "outputs": [],
   "source": [
    "from xgboost import XGBClassifier"
   ]
  },
  {
   "cell_type": "code",
   "execution_count": 75,
   "id": "434a8f1d",
   "metadata": {},
   "outputs": [
    {
     "data": {
      "text/plain": [
       "XGBClassifier(objective='multi:softprob')"
      ]
     },
     "execution_count": 75,
     "metadata": {},
     "output_type": "execute_result"
    }
   ],
   "source": [
    "model = XGBClassifier()\n",
    "model.fit(X_train, y_train)"
   ]
  },
  {
   "cell_type": "code",
   "execution_count": 76,
   "id": "c03aae4d",
   "metadata": {},
   "outputs": [],
   "source": [
    "y_pred_XGB = model.predict(X_test)"
   ]
  },
  {
   "cell_type": "code",
   "execution_count": 77,
   "id": "ebc66e61",
   "metadata": {},
   "outputs": [
    {
     "name": "stdout",
     "output_type": "stream",
     "text": [
      "Accuracy of the Logistic Regression Model:  100.0\n"
     ]
    }
   ],
   "source": [
    "accuracy = accuracy_score(y_test,y_pred_XGB) * 100\n",
    "print(\"Accuracy of the Logistic Regression Model: \",accuracy)"
   ]
  },
  {
   "cell_type": "code",
   "execution_count": 78,
   "id": "51f32f2e",
   "metadata": {},
   "outputs": [
    {
     "name": "stdout",
     "output_type": "stream",
     "text": [
      "[[4 0 0 0]\n",
      " [0 9 0 0]\n",
      " [0 0 8 0]\n",
      " [0 0 0 4]]\n",
      "              precision    recall  f1-score   support\n",
      "\n",
      "           1       1.00      1.00      1.00         4\n",
      "           2       1.00      1.00      1.00         9\n",
      "           3       1.00      1.00      1.00         8\n",
      "           4       1.00      1.00      1.00         4\n",
      "\n",
      "    accuracy                           1.00        25\n",
      "   macro avg       1.00      1.00      1.00        25\n",
      "weighted avg       1.00      1.00      1.00        25\n",
      "\n"
     ]
    }
   ],
   "source": [
    "from sklearn.metrics import classification_report, confusion_matrix\n",
    "print(confusion_matrix(y_test,y_pred_XGB))\n",
    "print(classification_report(y_test,y_pred_XGB))"
   ]
  },
  {
   "cell_type": "code",
   "execution_count": 79,
   "id": "a7291244",
   "metadata": {},
   "outputs": [
    {
     "data": {
      "text/plain": [
       "<AxesSubplot:>"
      ]
     },
     "execution_count": 79,
     "metadata": {},
     "output_type": "execute_result"
    },
    {
     "data": {
      "image/png": "[encoded data removed]",
      "text/plain": [
       "<Figure size 432x288 with 2 Axes>"
      ]
     },
     "metadata": {
      "needs_background": "light"
     },
     "output_type": "display_data"
    }
   ],
   "source": [
    "cm =confusion_matrix(y_test,y_pred_XGB)\n",
    "sns.heatmap(cm, square=True , annot=True)"
   ]
  },
  {
   "cell_type": "markdown",
   "id": "42ab25c1",
   "metadata": {},
   "source": [
    "<div class=\"alert alert-block alert-info\" dir=\"ltr\" style=\"text-align: center;\"><strong> <span style=\"font-family: courier new, courier; font-size: 18pt;\"> Neural network  </span></strong>"
   ]
  },
  {
   "cell_type": "code",
   "execution_count": 80,
   "id": "626b7307",
   "metadata": {},
   "outputs": [],
   "source": [
    "from sklearn.neural_network import MLPClassifier"
   ]
  },
  {
   "cell_type": "code",
   "execution_count": 81,
   "id": "b353fabc",
   "metadata": {},
   "outputs": [
    {
     "name": "stdout",
     "output_type": "stream",
     "text": [
      "(75, 5)\n",
      "(75,)\n",
      "(25, 5)\n",
      "(25,)\n"
     ]
    }
   ],
   "source": [
    "X_train, X_test, y_train, y_test = train_test_split(X,y, test_size =0.25, random_state = 4)\n",
    "print(X_train.shape)\n",
    "print(y_train.shape)\n",
    "print(X_test.shape)\n",
    "print(y_test.shape)"
   ]
  },
  {
   "cell_type": "code",
   "execution_count": 82,
   "id": "b2f17542",
   "metadata": {},
   "outputs": [],
   "source": [
    "model = MLPClassifier(hidden_layer_sizes=(1) , max_iter=110 , alpha=1e-4, solver='sgd', random_state=1 \n",
    "                     ,verbose=True , learning_rate_init=0.5 )"
   ]
  },
  {
   "cell_type": "code",
   "execution_count": 83,
   "id": "d0bcf2c3",
   "metadata": {},
   "outputs": [
    {
     "name": "stdout",
     "output_type": "stream",
     "text": [
      "Iteration 1, loss = 1.57219181\n",
      "Iteration 2, loss = 1.45174477\n",
      "Iteration 3, loss = 1.35519020\n",
      "Iteration 4, loss = 1.29931852\n",
      "Iteration 5, loss = 1.27987557\n",
      "Iteration 6, loss = 1.28525240\n",
      "Iteration 7, loss = 1.30142518\n",
      "Iteration 8, loss = 1.31620071\n",
      "Iteration 9, loss = 1.32310133\n",
      "Iteration 10, loss = 1.32157500\n",
      "Iteration 11, loss = 1.31431388\n",
      "Iteration 12, loss = 1.30454918\n",
      "Iteration 13, loss = 1.29481457\n",
      "Iteration 14, loss = 1.28682789\n",
      "Iteration 15, loss = 1.28159271\n",
      "Iteration 16, loss = 1.27933940\n",
      "Iteration 17, loss = 1.27948586\n",
      "Iteration 18, loss = 1.28087368\n",
      "Iteration 19, loss = 1.28226648\n",
      "Iteration 20, loss = 1.28284395\n",
      "Iteration 21, loss = 1.28241894\n",
      "Iteration 22, loss = 1.28131215\n",
      "Iteration 23, loss = 1.28003721\n",
      "Iteration 24, loss = 1.27901137\n",
      "Iteration 25, loss = 1.27841852\n",
      "Iteration 26, loss = 1.27822489\n",
      "Iteration 27, loss = 1.27827590\n",
      "Iteration 28, loss = 1.27839984\n",
      "Iteration 29, loss = 1.27847556\n",
      "Iteration 30, loss = 1.27845498\n",
      "Iteration 31, loss = 1.27835098\n",
      "Iteration 32, loss = 1.27820866\n",
      "Iteration 33, loss = 1.27807591\n",
      "Iteration 34, loss = 1.27798369\n",
      "Iteration 35, loss = 1.27793971\n",
      "Iteration 36, loss = 1.27793290\n",
      "Iteration 37, loss = 1.27794363\n",
      "Iteration 38, loss = 1.27795369\n",
      "Iteration 39, loss = 1.27795249\n",
      "Iteration 40, loss = 1.27793831\n",
      "Iteration 41, loss = 1.27791592\n",
      "Iteration 42, loss = 1.27789253\n",
      "Iteration 43, loss = 1.27787423\n",
      "Iteration 44, loss = 1.27786397\n",
      "Training loss did not improve more than tol=0.000100 for 10 consecutive epochs. Stopping.\n"
     ]
    }
   ],
   "source": [
    "model.fit(X_train, y_train);"
   ]
  },
  {
   "cell_type": "code",
   "execution_count": 84,
   "id": "f49aa822",
   "metadata": {},
   "outputs": [
    {
     "data": {
      "text/plain": [
       "0.41333333333333333"
      ]
     },
     "execution_count": 84,
     "metadata": {},
     "output_type": "execute_result"
    }
   ],
   "source": [
    "model.score(X_train, y_train)"
   ]
  },
  {
   "cell_type": "code",
   "execution_count": null,
   "id": "84747c47",
   "metadata": {},
   "outputs": [],
   "source": []
  }
 ],
 "metadata": {
  "kernelspec": {
   "display_name": "Python 3 (ipykernel)",
   "language": "python",
   "name": "python3"
  },
  "language_info": {
   "codemirror_mode": {
    "name": "ipython",
    "version": 3
   },
   "file_extension": ".py",
   "mimetype": "text/x-python",
   "name": "python",
   "nbconvert_exporter": "python",
   "pygments_lexer": "ipython3",
   "version": "3.9.7"
  }
 },
 "nbformat": 4,
 "nbformat_minor": 5
}
